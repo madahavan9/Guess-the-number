{
 "cells": [
  {
   "cell_type": "code",
   "execution_count": 2,
   "id": "11cc9a72",
   "metadata": {},
   "outputs": [
    {
     "name": "stdout",
     "output_type": "stream",
     "text": [
      "Enter the number: 64\n",
      "Congratulations Your Win The Game!\n",
      "1 Guess you took\n",
      "game over\n",
      "number is  64\n"
     ]
    }
   ],
   "source": [
    "\n",
    "\n",
    "n=8**2\n",
    "count=1\n",
    "\n",
    "guess_chances=5\n",
    "\n",
    "while 1<=guess_chances:\n",
    "    num=int(input(\"Enter the number: \"))\n",
    "    if num > n:\n",
    "        print(\"Your guessing number is high: pls guess the number is lower than\",num)\n",
    "        \n",
    "    elif num < n:\n",
    "        print(\"Your guessing number is too low: Guess the number is higher than \",num)\n",
    "        \n",
    "    else:\n",
    "        print(\"Congratulations Your Win The Game!\")\n",
    "        print(count,\"Guess you took\")\n",
    "        \n",
    "        break\n",
    "        \n",
    "    guess_chances=guess_chances-1\n",
    "    print(guess_chances,\"left\")\n",
    "    \n",
    "    count=count+1\n",
    "    print()\n",
    "print(\"game over\")\n",
    "print(\"number is \",n)"
   ]
  },
  {
   "cell_type": "code",
   "execution_count": 3,
   "id": "5656a082",
   "metadata": {},
   "outputs": [
    {
     "ename": "NameError",
     "evalue": "name 'random' is not defined",
     "output_type": "error",
     "traceback": [
      "\u001b[1;31m---------------------------------------------------------------------------\u001b[0m",
      "\u001b[1;31mNameError\u001b[0m                                 Traceback (most recent call last)",
      "Cell \u001b[1;32mIn[3], line 1\u001b[0m\n\u001b[1;32m----> 1\u001b[0m n\u001b[38;5;241m=\u001b[39mrandom\u001b[38;5;241m.\u001b[39mrandint(\u001b[38;5;241m1\u001b[39m,\u001b[38;5;241m100\u001b[39m)\n",
      "\u001b[1;31mNameError\u001b[0m: name 'random' is not defined"
     ]
    }
   ],
   "source": []
  },
  {
   "cell_type": "code",
   "execution_count": null,
   "id": "cce7006c",
   "metadata": {},
   "outputs": [],
   "source": []
  },
  {
   "cell_type": "code",
   "execution_count": null,
   "id": "d85bd681",
   "metadata": {},
   "outputs": [],
   "source": []
  },
  {
   "cell_type": "code",
   "execution_count": null,
   "id": "212d0162",
   "metadata": {},
   "outputs": [],
   "source": []
  },
  {
   "cell_type": "code",
   "execution_count": 11,
   "id": "3ff7b1a6",
   "metadata": {},
   "outputs": [
    {
     "data": {
      "text/plain": [
       "15"
      ]
     },
     "execution_count": 11,
     "metadata": {},
     "output_type": "execute_result"
    }
   ],
   "source": [
    "n"
   ]
  },
  {
   "cell_type": "code",
   "execution_count": null,
   "id": "daa1762a",
   "metadata": {},
   "outputs": [],
   "source": []
  }
 ],
 "metadata": {
  "kernelspec": {
   "display_name": "Python 3 (ipykernel)",
   "language": "python",
   "name": "python3"
  },
  "language_info": {
   "codemirror_mode": {
    "name": "ipython",
    "version": 3
   },
   "file_extension": ".py",
   "mimetype": "text/x-python",
   "name": "python",
   "nbconvert_exporter": "python",
   "pygments_lexer": "ipython3",
   "version": "3.11.5"
  }
 },
 "nbformat": 4,
 "nbformat_minor": 5
}
